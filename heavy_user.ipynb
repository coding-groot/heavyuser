{
 "cells": [
  {
   "cell_type": "code",
   "execution_count": null,
   "metadata": {},
   "outputs": [],
   "source": [
    "# 1. 특정 주제에 대해 크롤링\n",
    "# 2. 크롤링된 결과를 불러와서 댓글을 많이 단 user 파악\n",
    "\n",
    "# 크롤링 결과 데이터베이스 구조\n",
    "# -{keyword}_article\n",
    "# -{keyword}_reply\n",
    "# -{keyword}_rereply"
   ]
  },
  {
   "cell_type": "code",
   "execution_count": null,
   "metadata": {},
   "outputs": [],
   "source": [
    "# 키워드 입력\n",
    "keyword = input()"
   ]
  },
  {
   "cell_type": "code",
   "execution_count": null,
   "metadata": {},
   "outputs": [],
   "source": [
    "# 댓글 데이터베이스 불러오기\n",
    "\n",
    "import sqlite3\n",
    "import pandas as pd\n",
    "\n",
    "conn = sqlite3.connect('C:/Users/qwe/Desktop/sibeom/newstext.db',isolation_level = None)\n",
    "cur = conn.cursor()\n",
    "cur.execute('SELECT DISTINCT replyContent,replyUser,replyDate FROM {}_reply'.format(keyword))\n",
    "rows = cur.fetchall()\n",
    "cols = ['content','user','date']\n",
    "reply_df = pd.DataFrame.from_records(data=rows, columns=cols)\n",
    "\n",
    "conn.close()\n",
    "\n",
    "reply_df"
   ]
  },
  {
   "cell_type": "code",
   "execution_count": null,
   "metadata": {},
   "outputs": [],
   "source": [
    "# 대댓글 데이터베이스 불러오기\n",
    "\n",
    "conn = sqlite3.connect('C:/Users/qwe/Desktop/sibeom/newstext.db',isolation_level = None)\n",
    "cur = conn.cursor()\n",
    "cur.execute('SELECT DISTINCT rereplyContent,rereplyUser,rereplyDate FROM {}_rereply'.format(keyword))\n",
    "rows = cur.fetchall()\n",
    "cols = ['content','user','date']\n",
    "rereply_df = pd.DataFrame.from_records(data=rows, columns=cols)\n",
    "\n",
    "conn.close()"
   ]
  },
  {
   "cell_type": "code",
   "execution_count": null,
   "metadata": {},
   "outputs": [],
   "source": [
    "#댓글, 대댓글 데이터베이스의 사용자, 내용, 단 시각 데이터 프레임 합치기 \n",
    "\n",
    "whole_df = pd.concat([reply_df,rereply_df],axis=0)"
   ]
  },
  {
   "cell_type": "code",
   "execution_count": null,
   "metadata": {},
   "outputs": [],
   "source": [
    "#각 아이디별로 댓글 몇개 작성했는지\n",
    "\n",
    "user_count = pd.DataFrame(whole_df['user'].value_counts(),columns=['user'])"
   ]
  },
  {
   "cell_type": "code",
   "execution_count": null,
   "metadata": {},
   "outputs": [],
   "source": [
    "user_count"
   ]
  },
  {
   "cell_type": "code",
   "execution_count": null,
   "metadata": {},
   "outputs": [],
   "source": [
    "sum(user_count['user'])"
   ]
  },
  {
   "cell_type": "code",
   "execution_count": null,
   "metadata": {},
   "outputs": [],
   "source": [
    "user_count[user_count['user']]"
   ]
  },
  {
   "cell_type": "code",
   "execution_count": null,
   "metadata": {},
   "outputs": [],
   "source": [
    "import seaborn as sns\n",
    "ax = sns.distplot(user_count['user'],hist=True,kde=False,rug=False)\n",
    "for p in ax.patches:\n",
    "    height = p.get_height()\n",
    "    ax.text(p.get_x() + p.get_width() / 2., height + 3, height, ha = 'center', size = 9)"
   ]
  },
  {
   "cell_type": "code",
   "execution_count": null,
   "metadata": {},
   "outputs": [],
   "source": [
    "#각 아이디별로 댓글 몇개 작성했는지 그래프로\n",
    "\n",
    "import seaborn as sns\n",
    "\n",
    "sns.distplot(user_count['user'],hist=True,kde=False,rug=False)"
   ]
  },
  {
   "cell_type": "code",
   "execution_count": null,
   "metadata": {},
   "outputs": [],
   "source": [
    "#curve fit에 대해 좀 더 알아보고 그래프를 곡선 적합시켜야겠다"
   ]
  }
 ],
 "metadata": {
  "kernelspec": {
   "display_name": "Python 3.10.5 64-bit",
   "language": "python",
   "name": "python3"
  },
  "language_info": {
   "codemirror_mode": {
    "name": "ipython",
    "version": 3
   },
   "file_extension": ".py",
   "mimetype": "text/x-python",
   "name": "python",
   "nbconvert_exporter": "python",
   "pygments_lexer": "ipython3",
   "version": "3.10.5"
  },
  "orig_nbformat": 4,
  "vscode": {
   "interpreter": {
    "hash": "31841502be93c97fd49157f446a72b809e4a18c2614f585bcb51bf9d4c25d473"
   }
  }
 },
 "nbformat": 4,
 "nbformat_minor": 2
}
